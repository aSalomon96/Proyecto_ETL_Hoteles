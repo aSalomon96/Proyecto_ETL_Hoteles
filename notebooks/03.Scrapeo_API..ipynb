{
 "cells": [
  {
   "cell_type": "code",
   "execution_count": null,
   "metadata": {},
   "outputs": [],
   "source": [
    "import requests\n",
    "import os\n",
    "from dotenv import load_dotenv\n",
    "import pandas as pd\n",
    "import numpy as np\n",
    "from datetime import datetime\n",
    "\n",
    "# Cargar las variables de entorno\n",
    "load_dotenv()\n",
    "API_URL = os.getenv(\"API_URL\")\n"
   ]
  },
  {
   "cell_type": "code",
   "execution_count": 4,
   "metadata": {},
   "outputs": [
    {
     "name": "stdout",
     "output_type": "stream",
     "text": [
      "Claves disponibles en la respuesta: ['@context', '@graph']\n",
      "Fecha del primer evento: 2025-02-24 00:00:00\n"
     ]
    }
   ],
   "source": [
    "# Función para obtener datos desde la API\n",
    "def obtener_datos_api(url):\n",
    "    try:\n",
    "        respuesta = requests.get(url)\n",
    "        respuesta.raise_for_status()  # Lanza un error si la solicitud falla\n",
    "        return respuesta.json()\n",
    "    except requests.RequestException as e:\n",
    "        print(f\"Error al obtener datos: {e}\")\n",
    "        return None\n",
    "\n",
    "datos = obtener_datos_api(API_URL)\n",
    "if datos:\n",
    "    print(f\"Claves disponibles en la respuesta: {list(datos.keys())}\")\n",
    "    \n",
    "    # Obtener fecha del primer evento\n",
    "    eventos = datos.get('@graph', [])\n",
    "    if eventos:\n",
    "        fecha_evento = pd.to_datetime(eventos[0].get('dtstart', np.nan))\n",
    "        print(f\"Fecha del primer evento: {fecha_evento}\")\n",
    "\n"
   ]
  },
  {
   "cell_type": "code",
   "execution_count": 20,
   "metadata": {},
   "outputs": [
    {
     "name": "stdout",
     "output_type": "stream",
     "text": [
      "Rango de reservas: 2025-03-01 00:00:00 - 2025-03-02 00:00:00\n",
      "<class 'pandas.core.frame.DataFrame'>\n",
      "RangeIndex: 221 entries, 0 to 220\n",
      "Data columns (total 9 columns):\n",
      " #   Column         Non-Null Count  Dtype         \n",
      "---  ------         --------------  -----         \n",
      " 0   nombre_evento  221 non-null    object        \n",
      " 1   url_evento     221 non-null    object        \n",
      " 2   codigo_postal  205 non-null    object        \n",
      " 3   direccion      205 non-null    object        \n",
      " 4   horario        221 non-null    object        \n",
      " 5   organizacion   206 non-null    object        \n",
      " 6   inicio_evento  221 non-null    datetime64[ns]\n",
      " 7   fin_evento     221 non-null    datetime64[ns]\n",
      " 8   ciudad         221 non-null    object        \n",
      "dtypes: datetime64[ns](2), object(7)\n",
      "memory usage: 15.7+ KB\n"
     ]
    }
   ],
   "source": [
    "# Cargar dataset local\n",
    "ruta_datos = \"../data/reservas_hoteles_final.pkl\"\n",
    "df_reservas = pd.read_pickle(ruta_datos)\n",
    "\n",
    "fecha_inicio_reserva = pd.to_datetime(df_reservas.loc[0, \"inicio_estancia\"])\n",
    "fecha_fin_reserva = pd.to_datetime(df_reservas.loc[0, \"final_estancia\"])\n",
    "print(f\"Rango de reservas: {fecha_inicio_reserva} - {fecha_fin_reserva}\")\n",
    "\n",
    "# Función para filtrar eventos dentro del rango de reserva\n",
    "def filtrar_eventos(datos_eventos, fecha_inicio, fecha_fin): \n",
    "    eventos_filtrados = [] # Lista para almacenar los eventos filtrados\n",
    "    \n",
    "    for evento in datos_eventos.get(\"@graph\", []): # Iterar sobre los eventos\n",
    "        inicio_evento = pd.to_datetime(evento.get('dtstart', np.nan))\n",
    "        fin_evento = pd.to_datetime(evento.get('dtend', np.nan))\n",
    "        \n",
    "        if inicio_evento <= fecha_inicio and fin_evento >= fecha_fin: # Evento dentro del rango\n",
    "            eventos_filtrados.append({\n",
    "                \"nombre_evento\": evento.get('title', 'Desconocido'), \n",
    "                \"url_evento\": evento.get('link', np.nan),\n",
    "                \"codigo_postal\": evento.get(\"address\", {}).get(\"area\", {}).get(\"postal-code\", np.nan),\n",
    "                \"direccion\": evento.get(\"address\", {}).get(\"area\", {}).get(\"street-address\", np.nan),\n",
    "                \"horario\": evento.get(\"time\", np.nan),\n",
    "                \"organizacion\": evento.get('organization', {}).get('organization-name', np.nan),\n",
    "                \"inicio_evento\": inicio_evento.date() if not pd.isna(inicio_evento) else np.nan,\n",
    "                \"fin_evento\": fin_evento.date() if not pd.isna(fin_evento) else np.nan,\n",
    "                \"ciudad\": \"Madrid\"\n",
    "            })\n",
    "    \n",
    "    return eventos_filtrados\n",
    "\n",
    "# Filtrar y mostrar eventos\n",
    "eventos_relevantes = filtrar_eventos(datos, fecha_inicio_reserva, fecha_fin_reserva)\n",
    "df_eventos = pd.DataFrame(eventos_relevantes)\n",
    "\n",
    "\n",
    "# Pasar a fecha inicio y fin de evento\n",
    "df_eventos[\"inicio_evento\"] = pd.to_datetime(df_eventos[\"inicio_evento\"])\n",
    "df_eventos[\"fin_evento\"] = pd.to_datetime(df_eventos[\"fin_evento\"])\n",
    "\n",
    "df_eventos.info()"
   ]
  },
  {
   "cell_type": "code",
   "execution_count": 21,
   "metadata": {},
   "outputs": [],
   "source": [
    "df_eventos.to_pickle(\"../data/eventos_relevantes.pkl\")"
   ]
  }
 ],
 "metadata": {
  "kernelspec": {
   "display_name": "venv",
   "language": "python",
   "name": "python3"
  },
  "language_info": {
   "codemirror_mode": {
    "name": "ipython",
    "version": 3
   },
   "file_extension": ".py",
   "mimetype": "text/x-python",
   "name": "python",
   "nbconvert_exporter": "python",
   "pygments_lexer": "ipython3",
   "version": "3.12.4"
  }
 },
 "nbformat": 4,
 "nbformat_minor": 2
}
